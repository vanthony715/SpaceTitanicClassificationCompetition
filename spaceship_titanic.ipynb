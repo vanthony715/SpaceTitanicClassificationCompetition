{
 "cells": [
  {
   "cell_type": "code",
   "execution_count": 1,
   "id": "08a88eef",
   "metadata": {},
   "outputs": [],
   "source": [
    "import gc\n",
    "import pandas as pd\n",
    "import seaborn as sns\n",
    "import numpy as np\n",
    "import plotly.express as px\n",
    "from tqdm import tqdm\n",
    "gc.collect()\n",
    "\n",
    "##disable deprecation warnings\n",
    "import warnings\n",
    "def fxn():\n",
    "    warnings.warn(\"deprecated\", DeprecationWarning)\n",
    "with warnings.catch_warnings():\n",
    "    warnings.simplefilter(\"ignore\")\n",
    "    fxn()\n",
    "\n",
    "basepath = 'C:/Users/avasquez/Desktop/kaggle/spaceship_titanic/'\n",
    "\n",
    "train_path = basepath + 'train.csv'\n",
    "train_df = pd.read_csv(train_path, index_col=\"PassengerId\")\n",
    "y_train = train_df['Transported'].values\n",
    "train_df = train_df.drop('Transported', axis=1)\n",
    "train_df = train_df.drop(['Name', 'Cabin'], axis=1)\n",
    "\n",
    "test_path = basepath + 'test.csv'\n",
    "test_df = pd.read_csv(test_path, index_col=\"PassengerId\")\n",
    "test_df = test_df.drop(['Name', 'Cabin'], axis=1)"
   ]
  },
  {
   "cell_type": "code",
   "execution_count": 2,
   "id": "0bdd104b",
   "metadata": {},
   "outputs": [
    {
     "name": "stdout",
     "output_type": "stream",
     "text": [
      "----------Summary----------\n",
      "Initial Sample Size:  (8693,)\n",
      "Initial Num Features:  10\n",
      "\n",
      "Initial Features:  ['HomePlanet', 'CryoSleep', 'Destination', 'Age', 'VIP', 'RoomService', 'FoodCourt', 'ShoppingMall', 'Spa', 'VRDeck']\n",
      "\n",
      "\n",
      "Statistics:\n",
      "                Age   RoomService     FoodCourt  ShoppingMall           Spa  \\\n",
      "count  8514.000000   8512.000000   8510.000000   8485.000000   8510.000000   \n",
      "mean     28.827930    224.687617    458.077203    173.729169    311.138778   \n",
      "std      14.489021    666.717663   1611.489240    604.696458   1136.705535   \n",
      "min       0.000000      0.000000      0.000000      0.000000      0.000000   \n",
      "25%      19.000000      0.000000      0.000000      0.000000      0.000000   \n",
      "50%      27.000000      0.000000      0.000000      0.000000      0.000000   \n",
      "75%      38.000000     47.000000     76.000000     27.000000     59.000000   \n",
      "max      79.000000  14327.000000  29813.000000  23492.000000  22408.000000   \n",
      "\n",
      "             VRDeck  \n",
      "count   8505.000000  \n",
      "mean     304.854791  \n",
      "std     1145.717189  \n",
      "min        0.000000  \n",
      "25%        0.000000  \n",
      "50%        0.000000  \n",
      "75%       46.000000  \n",
      "max    24133.000000  \n",
      "\n",
      "Train shape:  (8693, 10)\n",
      "\n",
      "Test shape:  (4277, 10)\n"
     ]
    },
    {
     "data": {
      "text/html": [
       "<div>\n",
       "<style scoped>\n",
       "    .dataframe tbody tr th:only-of-type {\n",
       "        vertical-align: middle;\n",
       "    }\n",
       "\n",
       "    .dataframe tbody tr th {\n",
       "        vertical-align: top;\n",
       "    }\n",
       "\n",
       "    .dataframe thead th {\n",
       "        text-align: right;\n",
       "    }\n",
       "</style>\n",
       "<table border=\"1\" class=\"dataframe\">\n",
       "  <thead>\n",
       "    <tr style=\"text-align: right;\">\n",
       "      <th></th>\n",
       "      <th>HomePlanet</th>\n",
       "      <th>CryoSleep</th>\n",
       "      <th>Destination</th>\n",
       "      <th>Age</th>\n",
       "      <th>VIP</th>\n",
       "      <th>RoomService</th>\n",
       "      <th>FoodCourt</th>\n",
       "      <th>ShoppingMall</th>\n",
       "      <th>Spa</th>\n",
       "      <th>VRDeck</th>\n",
       "    </tr>\n",
       "    <tr>\n",
       "      <th>PassengerId</th>\n",
       "      <th></th>\n",
       "      <th></th>\n",
       "      <th></th>\n",
       "      <th></th>\n",
       "      <th></th>\n",
       "      <th></th>\n",
       "      <th></th>\n",
       "      <th></th>\n",
       "      <th></th>\n",
       "      <th></th>\n",
       "    </tr>\n",
       "  </thead>\n",
       "  <tbody>\n",
       "    <tr>\n",
       "      <th>0001_01</th>\n",
       "      <td>Europa</td>\n",
       "      <td>False</td>\n",
       "      <td>TRAPPIST-1e</td>\n",
       "      <td>39.0</td>\n",
       "      <td>False</td>\n",
       "      <td>0.0</td>\n",
       "      <td>0.0</td>\n",
       "      <td>0.0</td>\n",
       "      <td>0.0</td>\n",
       "      <td>0.0</td>\n",
       "    </tr>\n",
       "    <tr>\n",
       "      <th>0002_01</th>\n",
       "      <td>Earth</td>\n",
       "      <td>False</td>\n",
       "      <td>TRAPPIST-1e</td>\n",
       "      <td>24.0</td>\n",
       "      <td>False</td>\n",
       "      <td>109.0</td>\n",
       "      <td>9.0</td>\n",
       "      <td>25.0</td>\n",
       "      <td>549.0</td>\n",
       "      <td>44.0</td>\n",
       "    </tr>\n",
       "    <tr>\n",
       "      <th>0003_01</th>\n",
       "      <td>Europa</td>\n",
       "      <td>False</td>\n",
       "      <td>TRAPPIST-1e</td>\n",
       "      <td>58.0</td>\n",
       "      <td>True</td>\n",
       "      <td>43.0</td>\n",
       "      <td>3576.0</td>\n",
       "      <td>0.0</td>\n",
       "      <td>6715.0</td>\n",
       "      <td>49.0</td>\n",
       "    </tr>\n",
       "    <tr>\n",
       "      <th>0003_02</th>\n",
       "      <td>Europa</td>\n",
       "      <td>False</td>\n",
       "      <td>TRAPPIST-1e</td>\n",
       "      <td>33.0</td>\n",
       "      <td>False</td>\n",
       "      <td>0.0</td>\n",
       "      <td>1283.0</td>\n",
       "      <td>371.0</td>\n",
       "      <td>3329.0</td>\n",
       "      <td>193.0</td>\n",
       "    </tr>\n",
       "    <tr>\n",
       "      <th>0004_01</th>\n",
       "      <td>Earth</td>\n",
       "      <td>False</td>\n",
       "      <td>TRAPPIST-1e</td>\n",
       "      <td>16.0</td>\n",
       "      <td>False</td>\n",
       "      <td>303.0</td>\n",
       "      <td>70.0</td>\n",
       "      <td>151.0</td>\n",
       "      <td>565.0</td>\n",
       "      <td>2.0</td>\n",
       "    </tr>\n",
       "  </tbody>\n",
       "</table>\n",
       "</div>"
      ],
      "text/plain": [
       "            HomePlanet CryoSleep  Destination   Age    VIP  RoomService  \\\n",
       "PassengerId                                                               \n",
       "0001_01         Europa     False  TRAPPIST-1e  39.0  False          0.0   \n",
       "0002_01          Earth     False  TRAPPIST-1e  24.0  False        109.0   \n",
       "0003_01         Europa     False  TRAPPIST-1e  58.0   True         43.0   \n",
       "0003_02         Europa     False  TRAPPIST-1e  33.0  False          0.0   \n",
       "0004_01          Earth     False  TRAPPIST-1e  16.0  False        303.0   \n",
       "\n",
       "             FoodCourt  ShoppingMall     Spa  VRDeck  \n",
       "PassengerId                                           \n",
       "0001_01            0.0           0.0     0.0     0.0  \n",
       "0002_01            9.0          25.0   549.0    44.0  \n",
       "0003_01         3576.0           0.0  6715.0    49.0  \n",
       "0003_02         1283.0         371.0  3329.0   193.0  \n",
       "0004_01           70.0         151.0   565.0     2.0  "
      ]
     },
     "execution_count": 2,
     "metadata": {},
     "output_type": "execute_result"
    }
   ],
   "source": [
    "print('----------Summary----------')\n",
    "print('Initial Sample Size: ', y_train.shape)\n",
    "print('Initial Num Features: ', len(list(train_df)))\n",
    "print('\\nInitial Features: ', list(train_df))\n",
    "print('\\n')\n",
    "print('Statistics:\\n', train_df.describe())\n",
    "print('\\nTrain shape: ', train_df.values.shape)\n",
    "print('\\nTest shape: ', test_df.values.shape)\n",
    "train_df.head()"
   ]
  },
  {
   "cell_type": "code",
   "execution_count": 3,
   "id": "98a99299",
   "metadata": {},
   "outputs": [
    {
     "name": "stderr",
     "output_type": "stream",
     "text": [
      "Filling Empty Values with Mean of Column.: 100%|███████████████████████████████████████| 5/5 [00:00<00:00, 2495.72it/s]\n",
      "Encoding Categorical Columns.: 100%|████████████████████████████████████████████████████| 2/2 [00:00<00:00, 333.12it/s]"
     ]
    },
    {
     "name": "stdout",
     "output_type": "stream",
     "text": [
      "Deleted Column:  HomePlanet\n",
      "Deleted Column:  Destination\n",
      "\n",
      "X_train Shape:  (8693, 14)\n",
      "X_test Shape:  (4277, 14)\n",
      "CPU times: total: 15.6 ms\n",
      "Wall time: 19 ms\n"
     ]
    },
    {
     "name": "stderr",
     "output_type": "stream",
     "text": [
      "\n"
     ]
    }
   ],
   "source": [
    "%%time\n",
    "\n",
    "# ##combine X_train and X_test for encoding\n",
    "data_tmp = pd.concat([train_df, test_df])\n",
    "data_df = pd.DataFrame(data_tmp, columns = list(train_df))\n",
    "\n",
    "##insert average\n",
    "for col in tqdm(['RoomService', 'FoodCourt', 'ShoppingMall', 'Spa', 'VRDeck'], \n",
    "                desc='Filling Empty Values with Mean of Column.'):\n",
    "    mean_avg = data_df[col].mean()\n",
    "    data_df.loc[data_df[col] == '', col] = mean_avg\n",
    "\n",
    "def one_hot_encode(col_name, dataframe):\n",
    "    one_hot = pd.get_dummies(dataframe[col_name])\n",
    "    dataframe = dataframe.drop(col_name, axis=1)\n",
    "    dataframe = dataframe.join(one_hot, rsuffix='_right')\n",
    "    print('Deleted Column: ', col_name)\n",
    "    return dataframe\n",
    "\n",
    "##encode data\n",
    "for col in tqdm(['HomePlanet', 'Destination'], \n",
    "                desc='Encoding Categorical Columns.'):\n",
    "    data_df = one_hot_encode(col, data_df)\n",
    "    \n",
    "# ##change train/test sets to float\n",
    "data_df = data_df.astype(np.float64)\n",
    "\n",
    "##separate back into train and test sets\n",
    "X_test = data_df.values[8693:]\n",
    "X_train = data_df.values[:8693]\n",
    "print('\\nX_train Shape: ', X_train.shape)\n",
    "print('X_test Shape: ', X_test.shape)\n",
    "\n",
    "##fill X_train nan values with mean using numpy\n",
    "col_mean = np.nanmean(data_df.values, axis=0)\n",
    "inds = np.where(np.isnan(X_train))\n",
    "X_train[inds] = np.take(col_mean, inds[1])\n",
    "\n",
    "##fill X_test nan values with mean using numpy\n",
    "col_mean = np.nanmean(data_df.values, axis=0)\n",
    "inds = np.where(np.isnan(X_test))\n",
    "X_test[inds] = np.take(col_mean, inds[1])\n",
    "    \n",
    "##debug\n",
    "# data_df.to_csv('debug.csv')"
   ]
  },
  {
   "cell_type": "code",
   "execution_count": 4,
   "id": "ffaca9a4",
   "metadata": {},
   "outputs": [
    {
     "name": "stdout",
     "output_type": "stream",
     "text": [
      "\n",
      "X_train Shape:  (8693, 14)\n",
      "X_test Shape:  (4277, 14)\n",
      "[[0.         0.49367089 0.         ... 0.         0.         1.        ]\n",
      " [0.         0.30379747 0.         ... 0.         0.         1.        ]\n",
      " [0.         0.73417722 1.         ... 0.         0.         1.        ]\n",
      " ...\n",
      " [0.         0.32911392 0.         ... 0.         0.         1.        ]\n",
      " [0.         0.40506329 0.         ... 1.         0.         0.        ]\n",
      " [0.         0.55696203 0.         ... 0.         0.         1.        ]]\n",
      "\n",
      "\n",
      "CPU times: total: 31.2 ms\n",
      "Wall time: 34 ms\n"
     ]
    }
   ],
   "source": [
    "%%time\n",
    "\n",
    "from sklearn.preprocessing import StandardScaler, MinMaxScaler\n",
    "\n",
    "##scale X_train\n",
    "scaler = MinMaxScaler()\n",
    "data= scaler.fit_transform(data_df.values)\n",
    "\n",
    "##separate back into train and test sets\n",
    "X_test = data[8693:]\n",
    "X_train = data[:8693]\n",
    "print('\\nX_train Shape: ', X_train.shape)\n",
    "print('X_test Shape: ', X_test.shape)\n",
    "\n",
    "print(X_train)\n",
    "print('\\n')"
   ]
  },
  {
   "cell_type": "code",
   "execution_count": 5,
   "id": "37ac4d45",
   "metadata": {},
   "outputs": [
    {
     "name": "stdout",
     "output_type": "stream",
     "text": [
      "\n",
      "Most correlated feature to target classes: \n",
      "----------------------------------------------\n"
     ]
    },
    {
     "data": {
      "text/plain": [
       "[('2787.0', 'TRAPPIST-1e'),\n",
       " ('2521.4', 'CryoSleep'),\n",
       " ('1951.0', 'Earth'),\n",
       " ('1538.9', 'Age'),\n",
       " ('1404.0', 'Europa'),\n",
       " ('1098.0', '55 Cancri e'),\n",
       " ('920.0', 'Mars'),\n",
       " ('401.0', 'PSO J318.5-22'),\n",
       " ('78.2', 'VIP'),\n",
       " ('78.0', 'FoodCourt'),\n",
       " ('33.5', 'ShoppingMall'),\n",
       " ('20.2', 'RoomService'),\n",
       " ('13.5', 'VRDeck'),\n",
       " ('13.1', 'Spa')]"
      ]
     },
     "metadata": {},
     "output_type": "display_data"
    },
    {
     "name": "stdout",
     "output_type": "stream",
     "text": [
      "\n",
      "Least correlated feature to target classes: \n",
      "----------------------------------------------\n"
     ]
    },
    {
     "data": {
      "text/plain": [
       "[('1404.0', 'Europa'),\n",
       " ('1098.0', '55 Cancri e'),\n",
       " ('920.0', 'Mars'),\n",
       " ('401.0', 'PSO J318.5-22'),\n",
       " ('78.2', 'VIP'),\n",
       " ('78.0', 'FoodCourt'),\n",
       " ('33.5', 'ShoppingMall'),\n",
       " ('20.2', 'RoomService'),\n",
       " ('13.5', 'VRDeck'),\n",
       " ('13.1', 'Spa')]"
      ]
     },
     "metadata": {},
     "output_type": "display_data"
    }
   ],
   "source": [
    "##Direct correlation between each column of X and the target y\n",
    "corrs = np.array([np.correlate(X_train[:,j], y_train)[0] for j in range(X_train.shape[1])])\n",
    "\n",
    "##Reverse sort, numpy array negation reverses the order\n",
    "ranks = np.argsort((-corrs))\n",
    "\n",
    "##Display top-9 and bot-5\n",
    "rankings = [(f'{corrs[j]:.1f}', list(data_df)[j]) for j in ranks]\n",
    "print('\\nMost correlated feature to target classes: ')\n",
    "print('----------------------------------------------')\n",
    "display(rankings[:])\n",
    "print('\\nLeast correlated feature to target classes: ')\n",
    "print('----------------------------------------------')\n",
    "display(rankings[-10:])"
   ]
  },
  {
   "cell_type": "code",
   "execution_count": 6,
   "id": "5c4315c3",
   "metadata": {},
   "outputs": [
    {
     "name": "stdout",
     "output_type": "stream",
     "text": [
      "\n",
      "X_train Shape:  (8693, 13)\n",
      "X_test Shape:  (4277, 13)\n",
      "[[0.         0.49367089 0.         ... 0.         0.         1.        ]\n",
      " [0.         0.30379747 0.         ... 0.         0.         1.        ]\n",
      " [0.         0.73417722 1.         ... 0.         0.         1.        ]\n",
      " ...\n",
      " [0.         0.32911392 0.         ... 0.         0.         1.        ]\n",
      " [0.         0.40506329 0.         ... 1.         0.         0.        ]\n",
      " [0.         0.55696203 0.         ... 0.         0.         1.        ]]\n",
      "\n",
      "\n"
     ]
    }
   ],
   "source": [
    "##remove least correlated features\n",
    "data_df = data_df.drop(['Spa'], axis=1)\n",
    "\n",
    "##scale X_train\n",
    "scaler = MinMaxScaler()\n",
    "data = scaler.fit_transform(data_df.values)\n",
    "\n",
    "##separate back into train and test sets\n",
    "X_test = data[8693:]\n",
    "X_train = data[:8693]\n",
    "print('\\nX_train Shape: ', X_train.shape)\n",
    "print('X_test Shape: ', X_test.shape)\n",
    "\n",
    "print(X_train)\n",
    "print('\\n')"
   ]
  },
  {
   "cell_type": "code",
   "execution_count": 7,
   "id": "3f473b32",
   "metadata": {},
   "outputs": [
    {
     "name": "stderr",
     "output_type": "stream",
     "text": [
      "[Parallel(n_jobs=-1)]: Using backend LokyBackend with 16 concurrent workers.\n"
     ]
    },
    {
     "name": "stdout",
     "output_type": "stream",
     "text": [
      "Cross Validation Scores:  [0.73678161 0.68505747 0.73333333 0.72382048 0.69044879 0.72842348\n",
      " 0.72151899 0.69620253 0.73647871 0.71921749]\n",
      "Cross Validation Mean Score:  0.7171282885599777\n",
      "Cross Validation Stdev Score:  0.018432377048894423\n",
      "\n",
      "\n",
      "CPU times: total: 703 ms\n",
      "Wall time: 884 ms\n"
     ]
    },
    {
     "name": "stderr",
     "output_type": "stream",
     "text": [
      "[Parallel(n_jobs=-1)]: Done  10 out of  10 | elapsed:    0.7s finished\n"
     ]
    }
   ],
   "source": [
    "%%time\n",
    "\n",
    "from sklearn.model_selection import cross_val_score\n",
    "from sklearn.tree import DecisionTreeClassifier\n",
    "dt_clf = DecisionTreeClassifier(criterion='gini')\n",
    "dtr_scores = cross_val_score(dt_clf, X_train, y_train, cv=10, verbose=1, n_jobs=-1)\n",
    "\n",
    "print('Cross Validation Scores: ', dtr_scores)\n",
    "print('Cross Validation Mean Score: ', sum(dtr_scores)/len(dtr_scores))\n",
    "print('Cross Validation Stdev Score: ', np.std(dtr_scores))\n",
    "print('\\n')"
   ]
  },
  {
   "cell_type": "code",
   "execution_count": 8,
   "id": "27251007",
   "metadata": {},
   "outputs": [
    {
     "name": "stderr",
     "output_type": "stream",
     "text": [
      "[Parallel(n_jobs=-1)]: Using backend LokyBackend with 16 concurrent workers.\n"
     ]
    },
    {
     "name": "stdout",
     "output_type": "stream",
     "text": [
      "Cross Validation Scores:  [0.76436782 0.72298851 0.73908046 0.77445339 0.76294591 0.75373993\n",
      " 0.7410817  0.76064442 0.76869965 0.76179517]\n",
      "Cross Validation Mean Score:  0.7549796965728873\n",
      "Cross Validation Stdev Score:  0.015061582155308473\n",
      "\n",
      "\n"
     ]
    },
    {
     "name": "stderr",
     "output_type": "stream",
     "text": [
      "[Parallel(n_jobs=-1)]: Done  10 out of  10 | elapsed:    1.1s finished\n"
     ]
    }
   ],
   "source": [
    "# %%time\n",
    "\n",
    "from sklearn.neural_network import MLPClassifier\n",
    "\n",
    "mlp_clf = MLPClassifier(hidden_layer_sizes=(50,), max_iter=300, verbose=1, solver='adam', activation='tanh', \n",
    "                        learning_rate='adaptive', early_stopping=True, alpha=0.001)\n",
    "mlp_scores = cross_val_score(mlp_clf, X_train, y_train, cv=10, verbose=1, n_jobs=-1)\n",
    "\n",
    "print('Cross Validation Scores: ', mlp_scores)\n",
    "print('Cross Validation Mean Score: ', sum(mlp_scores)/len(mlp_scores))\n",
    "print('Cross Validation Stdev Score: ', np.std(mlp_scores))\n",
    "print('\\n')"
   ]
  },
  {
   "cell_type": "code",
   "execution_count": 9,
   "id": "7056f992",
   "metadata": {},
   "outputs": [
    {
     "name": "stderr",
     "output_type": "stream",
     "text": [
      "[Parallel(n_jobs=-1)]: Using backend LokyBackend with 16 concurrent workers.\n"
     ]
    },
    {
     "name": "stdout",
     "output_type": "stream",
     "text": [
      "Cross Validation Scores:  [0.76896552 0.73448276 0.74827586 0.77100115 0.72612198 0.76294591\n",
      " 0.74453395 0.77560414 0.78365938 0.77100115]\n",
      "Cross Validation Mean Score:  0.7586591801912623\n",
      "Cross Validation Stdev Score:  0.018143569480779085\n",
      "\n",
      "\n",
      "CPU times: total: 31.2 ms\n",
      "Wall time: 1.73 s\n"
     ]
    },
    {
     "name": "stderr",
     "output_type": "stream",
     "text": [
      "[Parallel(n_jobs=-1)]: Done  10 out of  10 | elapsed:    1.6s finished\n"
     ]
    }
   ],
   "source": [
    "%%time\n",
    "\n",
    "from sklearn.ensemble import RandomForestClassifier\n",
    "\n",
    "rf_clf = RandomForestClassifier(max_depth=5, n_estimators=500, n_jobs=-1, warm_start=True, \n",
    "                                ccp_alpha=0.0011, max_features='log2', min_samples_leaf=2)\n",
    "\n",
    "# rf_clf = RandomForestClassifier(verbose=1, n_estimators=500)\n",
    "\n",
    "rf_scores = cross_val_score(rf_clf, X_train, y_train, cv=10, verbose=1, n_jobs=-1)\n",
    "\n",
    "print('Cross Validation Scores: ', rf_scores)\n",
    "print('Cross Validation Mean Score: ', sum(rf_scores)/len(rf_scores))\n",
    "print('Cross Validation Stdev Score: ', np.std(rf_scores))\n",
    "print('\\n')"
   ]
  },
  {
   "cell_type": "code",
   "execution_count": 10,
   "id": "f88ba076",
   "metadata": {},
   "outputs": [
    {
     "name": "stderr",
     "output_type": "stream",
     "text": [
      "[Parallel(n_jobs=-1)]: Using backend ThreadingBackend with 16 concurrent workers.\n",
      "[Parallel(n_jobs=-1)]: Done  18 tasks      | elapsed:    0.0s\n",
      "[Parallel(n_jobs=-1)]: Done 168 tasks      | elapsed:    0.1s\n"
     ]
    },
    {
     "name": "stdout",
     "output_type": "stream",
     "text": [
      "Accuracy Score:  0.7701149425287356\n",
      "F1 Score:  0.7777777777777777\n",
      "\n",
      "\n",
      "CPU times: total: 3.72 s\n",
      "Wall time: 714 ms\n"
     ]
    },
    {
     "name": "stderr",
     "output_type": "stream",
     "text": [
      "[Parallel(n_jobs=-1)]: Done 418 tasks      | elapsed:    0.4s\n",
      "[Parallel(n_jobs=-1)]: Done 500 out of 500 | elapsed:    0.5s finished\n",
      "[Parallel(n_jobs=16)]: Using backend ThreadingBackend with 16 concurrent workers.\n",
      "[Parallel(n_jobs=16)]: Done  18 tasks      | elapsed:    0.0s\n",
      "[Parallel(n_jobs=16)]: Done 168 tasks      | elapsed:    0.0s\n",
      "[Parallel(n_jobs=16)]: Done 418 tasks      | elapsed:    0.0s\n",
      "[Parallel(n_jobs=16)]: Done 500 out of 500 | elapsed:    0.0s finished\n"
     ]
    }
   ],
   "source": [
    "%%time\n",
    "\n",
    "##split a small validation set for sanity\n",
    "from sklearn.model_selection import train_test_split\n",
    "X_tr, X_val, y_tr, y_val = train_test_split(X_train, y_train, test_size=0.01, random_state=42)\n",
    "\n",
    "rf_clf = RandomForestClassifier(verbose=1, \n",
    "                                max_depth=25, \n",
    "                                n_estimators=500, \n",
    "                                n_jobs=-1, \n",
    "                                warm_start=True, \n",
    "                                ccp_alpha=0.0011, \n",
    "                                max_features='log2', \n",
    "                                min_samples_leaf=2).fit(X_tr, y_tr)\n",
    "\n",
    "from sklearn.metrics import f1_score\n",
    "from sklearn.metrics import accuracy_score\n",
    "preds = rf_clf.predict(X_val)\n",
    "accuracy = accuracy_score(y_val, preds)\n",
    "f1 = f1_score(y_val, preds)\n",
    "\n",
    "print('Accuracy Score: ', accuracy)\n",
    "print('F1 Score: ', f1)\n",
    "print('\\n')"
   ]
  },
  {
   "cell_type": "code",
   "execution_count": 11,
   "id": "fb0a9e41",
   "metadata": {},
   "outputs": [
    {
     "name": "stderr",
     "output_type": "stream",
     "text": [
      "[Parallel(n_jobs=16)]: Using backend ThreadingBackend with 16 concurrent workers.\n",
      "[Parallel(n_jobs=16)]: Done  18 tasks      | elapsed:    0.0s\n",
      "[Parallel(n_jobs=16)]: Done 168 tasks      | elapsed:    0.0s\n",
      "[Parallel(n_jobs=16)]: Done 418 tasks      | elapsed:    0.0s\n"
     ]
    },
    {
     "name": "stdout",
     "output_type": "stream",
     "text": [
      "Prediction Shape:  (4277,)\n",
      "Last prediction:  True\n",
      "CPU times: total: 219 ms\n",
      "Wall time: 95.6 ms\n"
     ]
    },
    {
     "name": "stderr",
     "output_type": "stream",
     "text": [
      "[Parallel(n_jobs=16)]: Done 500 out of 500 | elapsed:    0.0s finished\n"
     ]
    }
   ],
   "source": [
    "%%time\n",
    "\n",
    "##get test predictions\n",
    "preds = rf_clf.predict(X_test)\n",
    "print('Prediction Shape: ', preds.shape)\n",
    "print('Last prediction: ', preds[-1])\n",
    "\n",
    "##write to csv\n",
    "preds_df = pd.DataFrame(test_df.index.values, columns=['PassengerId'])\n",
    "preds_df['Transported'] = preds \n",
    "preds_df.to_csv(basepath + 'vasquez_submission.csv', index = False)"
   ]
  }
 ],
 "metadata": {
  "kernelspec": {
   "display_name": "Python 3 (ipykernel)",
   "language": "python",
   "name": "python3"
  },
  "language_info": {
   "codemirror_mode": {
    "name": "ipython",
    "version": 3
   },
   "file_extension": ".py",
   "mimetype": "text/x-python",
   "name": "python",
   "nbconvert_exporter": "python",
   "pygments_lexer": "ipython3",
   "version": "3.9.7"
  }
 },
 "nbformat": 4,
 "nbformat_minor": 5
}
